{
 "cells": [
  {
   "cell_type": "code",
   "execution_count": 10,
   "metadata": {},
   "outputs": [],
   "source": [
    "from pathlib import Path\n",
    "from langchain.memory import VectorStoreRetrieverMemory\n",
    "from typing import List,Tuple\n",
    "from langchain.schema import Document\n",
    "from langchain_text_splitters import MarkdownHeaderTextSplitter, MarkdownTextSplitter\n",
    "\n",
    "def markdown_chunking(base_path:Path, file: str)-> Tuple[Document, List[Document]]:\n",
    "    file = str(base_path.joinpath(file).absolute())\n",
    "    file_id = str(Path(file).relative_to(base_path))\n",
    "    \n",
    "    headers_to_split_on = [\n",
    "        (\"#\", \"Header 1\"),\n",
    "        (\"##\", \"Header 2\"),\n",
    "        (\"###\", \"Header 3\"),\n",
    "    ]\n",
    "    markdown_splitter = MarkdownHeaderTextSplitter(headers_to_split_on=headers_to_split_on)\n",
    "    \n",
    "    document_content = get_file_content(base_path.joinpath(file).absolute())\n",
    "    document_metadata = {\"id\":file_id}\n",
    "    document =  Document(page_content=document_content,metadata=document_metadata) \n",
    "    md_header_splits = markdown_splitter.split_text(document_content)\n",
    "    for idx,doc in enumerate(md_header_splits):\n",
    "        doc.metadata = {**document_metadata,\"doc_id\": f'{file_id}#{idx}'}\n",
    "    \n",
    "    return (document,md_header_splits)\n",
    "\n",
    "\n",
    "def get_file_content(file_path):\n",
    "    with open(file_path, 'r', encoding = 'utf-8') as file:\n",
    "        return file.read()\n"
   ]
  },
  {
   "cell_type": "code",
   "execution_count": null,
   "metadata": {},
   "outputs": [],
   "source": [
    "doc,chunks = markdown_chunking(Path(\"./resources/cookiecutter/\").absolute(),\"AUTHORS.md\")\n",
    "print(chunks)"
   ]
  },
  {
   "cell_type": "code",
   "execution_count": 22,
   "metadata": {},
   "outputs": [],
   "source": [
    "from langchain_text_splitters import RecursiveCharacterTextSplitter\n",
    "\n",
    "def rst_chunking(base_path:Path, file: str)-> Tuple[Document, List[Document]]:\n",
    "    file = str(base_path.joinpath(file).absolute())\n",
    "    file_id = str(Path(file).relative_to(base_path))\n",
    "    \n",
    "    document_content = get_file_content(base_path.joinpath(file).absolute())\n",
    "    document_metadata = {\"id\":file_id}\n",
    "    document =  Document(page_content=document_content,metadata=document_metadata) \n",
    "    \n",
    "    text_splitter = RecursiveCharacterTextSplitter(\n",
    "        chunk_size=1000,\n",
    "        chunk_overlap=20,\n",
    "        length_function=len,\n",
    "        separators=[\n",
    "        \"\\n\\n\",\n",
    "        \"\\n\",\n",
    "        \" \",\n",
    "        \".\",\n",
    "        \",\",\n",
    "        \"\\u200b\",  # Zero-width space\n",
    "        \"\\uff0c\",  # Fullwidth comma\n",
    "        \"\\u3001\",  # Ideographic comma\n",
    "        \"\\uff0e\",  # Fullwidth full stop\n",
    "        \"\\u3002\",  # Ideographic full stop\n",
    "        \"\",\n",
    "    ],\n",
    "    )\n",
    "    \n",
    "    rst_splits = text_splitter.split_documents(document)\n",
    "    for idx,doc in enumerate(rst_splits):\n",
    "        doc.metadata = {**document_metadata,\"doc_id\": f'{file_id}#{idx}'}\n",
    "    \n",
    "    return (document,rst_splits)"
   ]
  },
  {
   "cell_type": "code",
   "execution_count": 23,
   "metadata": {},
   "outputs": [
    {
     "name": "stdout",
     "output_type": "stream",
     "text": [
      "[Document(page_content=\"=====\\nUsage\\n=====  \\nGrab a Cookiecutter template\\n----------------------------  \\nFirst, clone a Cookiecutter project template::  \\n$ git clone https://github.com/audreyfeldroy/cookiecutter-pypackage.git  \\nMake your changes\\n-----------------  \\nModify the variables defined in `cookiecutter.json`.  \\nOpen up the skeleton project. If you need to change it around a bit, do so.  \\nYou probably also want to create a repo, name it differently, and push it as\\nyour own new Cookiecutter project template, for handy future use.  \\nGenerate your project\\n---------------------  \\nThen generate your project from the project template::  \\n$ cookiecutter cookiecutter-pypackage/  \\nThe only argument is the input directory. (The output directory is generated\\nby rendering that, and it can't be the same as the input directory.)  \\n.. note:: see :ref:`command_line_options` for extra command line arguments  \\nTry it out!  \\nWorks directly with git and hg (mercurial) repos too\\n------------------------------------------------------  \\nTo create a project from the cookiecutter-pypackage.git repo template::  \\n$ cookiecutter gh:audreyfeldroy/cookiecutter-pypackage  \\nCookiecutter knows abbreviations for Github (``gh``), Bitbucket (``bb``), and\\nGitLab (``gl``) projects, but you can also give it the full URL to any\\nrepository::  \\n$ cookiecutter https://github.com/audreyfeldroy/cookiecutter-pypackage.git\\n$ cookiecutter git+ssh://git@github.com/audreyfeldroy/cookiecutter-pypackage.git\\n$ cookiecutter hg+ssh://hg@bitbucket.org/audreyr/cookiecutter-pypackage  \\nYou will be prompted to enter a bunch of project config values. (These are\\ndefined in the project's `cookiecutter.json`.)  \\nThen, Cookiecutter will generate a project from the template, using the values\\nthat you entered. It will be placed in your current directory.  \\nAnd if you want to specify a branch you can do that with::  \\n$ cookiecutter https://github.com/audreyfeldroy/cookiecutter-pypackage.git --checkout develop  \\nWorks with private repos\\n------------------------  \\nIf you want to work with repos that are not hosted in github or bitbucket you can indicate explicitly the\\ntype of repo that you want to use prepending `hg+` or `git+` to repo url::  \\n$ cookiecutter hg+https://example.com/repo  \\nIn addition, one can provide a path to the cookiecutter stored\\non a local server::  \\n$ cookiecutter file://server/folder/project.git  \\nWorks with Zip files\\n--------------------  \\nYou can also distribute cookiecutter templates as Zip files. To use a Zip file\\ntemplate, point cookiecutter at a Zip file on your local machine::  \\n$ cookiecutter /path/to/template.zip  \\nOr, if the Zip file is online::  \\n$ cookiecutter https://example.com/path/to/template.zip  \\nIf the template has already been downloaded, or a template with the same name\\nhas already been downloaded, you will be prompted to delete the existing\\ntemplate before proceeding.  \\nThe Zip file contents should be the same as a git/hg repository for a template -\\nthat is, the zipfile should unpack into a top level directory that contains the\\nname of the template. The name of the zipfile doesn't have to match the name of\\nthe template - for example, you can label a zipfile with a version number, but\\nomit the version number from the directory inside the Zip file.  \\nIf you want to see an example Zipfile, find any Cookiecutter repository on Github\\nand download that repository as a zip file - Github repository downloads are in\\na valid format for Cookiecutter.  \\nPassword-protected Zip files\\n~~~~~~~~~~~~~~~~~~~~~~~~~~~~\\n\\nIf your repository Zip file is password protected, Cookiecutter will prompt you\\nfor that password whenever the template is used.\\n\\nAlternatively, if you want to use a password-protected Zip file in an\\nautomated environment, you can export the `COOKIECUTTER_REPO_PASSWORD`\\nenvironment variable; the value of that environment variable will be used\\nwhenever a password is required.\\n\\nKeeping your cookiecutters organized\\n------------------------------------\\n\\nAs of the Cookiecutter 0.7.0 release:\\n\\n* Whenever you generate a project with a cookiecutter, the resulting project\\nis output to your current directory.\\n\\n* Your cloned cookiecutters are stored by default in your `~/.cookiecutters/`\\ndirectory (or Windows equivalent). The location is configurable: see\\n:doc:`advanced/user_config` for details.\\n\\nPre-0.7.0, this is how it worked:\\n\\n* Whenever you generate a project with a cookiecutter, the resulting project\\nis output to your current directory.\\n\\n* Cloned cookiecutters were not saved locally.\\n\", metadata={'id': 'docs\\\\usage.rst', 'doc_id': 'docs\\\\usage.rst#0'})]\n"
     ]
    }
   ],
   "source": [
    "doc,chunks = markdown_chunking(Path(\"./resources/cookiecutter/\").absolute(),\"docs/usage.rst\")\n",
    "print(chunks)"
   ]
  }
 ],
 "metadata": {
  "kernelspec": {
   "display_name": "Python 3",
   "language": "python",
   "name": "python3"
  },
  "language_info": {
   "codemirror_mode": {
    "name": "ipython",
    "version": 3
   },
   "file_extension": ".py",
   "mimetype": "text/x-python",
   "name": "python",
   "nbconvert_exporter": "python",
   "pygments_lexer": "ipython3",
   "version": "3.11.0"
  }
 },
 "nbformat": 4,
 "nbformat_minor": 2
}
