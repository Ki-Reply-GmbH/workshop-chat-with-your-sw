{
 "cells": [
  {
   "cell_type": "code",
   "execution_count": 5,
   "metadata": {},
   "outputs": [],
   "source": [
    "from pathlib import Path\n",
    "from langchain.memory import VectorStoreRetrieverMemory\n",
    "from typing import List,Tuple\n",
    "from langchain.schema import Document\n",
    "from langchain_text_splitters import MarkdownHeaderTextSplitter, MarkdownTextSplitter\n",
    "\n",
    "def markdown_chunking(base_path:Path, file: str)-> Tuple[Document, List[Document]]:\n",
    "    file = str(base_path.joinpath(file).absolute())\n",
    "    file_id = str(Path(file).relative_to(base_path))\n",
    "    \n",
    "    headers_to_split_on = [\n",
    "        (\"#\", \"Header 1\"),\n",
    "        (\"##\", \"Header 2\"),\n",
    "        (\"###\", \"Header 3\"),\n",
    "    ]\n",
    "    markdown_splitter = MarkdownHeaderTextSplitter(headers_to_split_on=headers_to_split_on)\n",
    "    \n",
    "    document_content = get_file_content(base_path.joinpath(file).absolute())\n",
    "    document_metadata = {\"id\":file_id}\n",
    "    document =  Document(page_content=document_content,metadata=document_metadata) \n",
    "    md_header_splits = markdown_splitter.split_text(document_content)\n",
    "    for idx,doc in enumerate(md_header_splits):\n",
    "        doc.metadata = {**document_metadata,\"doc_id\": f'{file_id}#{idx}'}\n",
    "    \n",
    "    return (document,md_header_splits)\n",
    "\n",
    "\n",
    "def get_file_content(file_path):\n",
    "    with open(file_path, 'r', encoding = 'utf-8') as file:\n",
    "        return file.read()\n"
   ]
  },
  {
   "cell_type": "code",
   "execution_count": 8,
   "metadata": {},
   "outputs": [],
   "source": [
    "doc,chunks = markdown_chunking(Path(\"./resources/cookiecutter/\").absolute(),\"AUTHORS.md\")"
   ]
  },
  {
   "cell_type": "code",
   "execution_count": 9,
   "metadata": {},
   "outputs": [
    {
     "name": "stdout",
     "output_type": "stream",
     "text": [
      "[Document(page_content='- Audrey Roy Greenfeld ([@audreyfeldroy](https://github.com/audreyfeldroy))\\n- Daniel Roy Greenfeld ([@pydanny](https://github.com/pydanny))\\n- Raphael Pierzina ([@hackebrot](https://github.com/hackebrot))', metadata={'id': 'AUTHORS.md', 'doc_id': 'AUTHORS.md#0'}), Document(page_content='- Michael Joseph ([@michaeljoseph](https://github.com/michaeljoseph))\\n- Paul Moore ([@pfmoore](https://github.com/pfmoore))\\n- Andrey Shpak ([@insspb](https://github.com/insspb))\\n- Sorin Sbarnea ([@ssbarnea](https://github.com/ssbarnea))\\n- Fábio C. Barrionuevo da Luz ([@luzfcb](https://github.com/luzfcb))\\n- Simone Basso ([@simobasso](https://github.com/simobasso))\\n- Jens Klein ([@jensens](https://github.com/jensens))\\n- Érico Andrei ([@ericof](https://github.com/ericof))', metadata={'id': 'AUTHORS.md', 'doc_id': 'AUTHORS.md#1'}), Document(page_content=\"- Steven Loria ([@sloria](https://github.com/sloria))\\n- Goran Peretin ([@gperetin](https://github.com/gperetin))\\n- Hamish Downer ([@foobacca](https://github.com/foobacca))\\n- Thomas Orozco ([@krallin](https://github.com/krallin))\\n- Jindrich Smitka ([@s-m-i-t-a](https://github.com/s-m-i-t-a))\\n- Benjamin Schwarze ([@benjixx](https://github.com/benjixx))\\n- Raphi ([@raphigaziano](https://github.com/raphigaziano))\\n- Thomas Chiroux ([@ThomasChiroux](https://github.com/ThomasChiroux))\\n- Sergi Almacellas Abellana ([@pokoli](https://github.com/pokoli))\\n- Alex Gaynor ([@alex](https://github.com/alex))\\n- Rolo ([@rolo](https://github.com/rolo))\\n- Pablo ([@oubiga](https://github.com/oubiga))\\n- Bruno Rocha ([@rochacbruno](https://github.com/rochacbruno))\\n- Alexander Artemenko ([@svetlyak40wt](https://github.com/svetlyak40wt))\\n- Mahmoud Abdelkader ([@mahmoudimus](https://github.com/mahmoudimus))\\n- Leonardo Borges Avelino ([@lborgav](https://github.com/lborgav))\\n- Chris Trotman ([@solarnz](https://github.com/solarnz))\\n- Rolf ([@relekang](https://github.com/relekang))\\n- Noah Kantrowitz ([@coderanger](https://github.com/coderanger))\\n- Vincent Bernat ([@vincentbernat](https://github.com/vincentbernat))\\n- Germán Moya ([@pbacterio](https://github.com/pbacterio))\\n- Ned Batchelder ([@nedbat](https://github.com/nedbat))\\n- Dave Dash ([@davedash](https://github.com/davedash))\\n- Johan Charpentier ([@cyberj](https://github.com/cyberj))\\n- Éric Araujo ([@merwok](https://github.com/merwok))\\n- saxix ([@saxix](https://github.com/saxix))\\n- Tzu-ping Chung ([@uranusjr](https://github.com/uranusjr))\\n- Caleb Hattingh ([@cjrh](https://github.com/cjrh))\\n- Flavio Curella ([@fcurella](https://github.com/fcurella))\\n- Adam Venturella ([@aventurella](https://github.com/aventurella))\\n- Monty Taylor ([@emonty](https://github.com/emonty))\\n- schacki ([@schacki](https://github.com/schacki))\\n- Ryan Olson ([@ryanolson](https://github.com/ryanolson))\\n- Trey Hunner ([@treyhunner](https://github.com/treyhunner))\\n- Russell Keith-Magee ([@freakboy3742](https://github.com/freakboy3742))\\n- Mishbah Razzaque ([@mishbahr](https://github.com/mishbahr))\\n- Robin Andeer ([@robinandeer](https://github.com/robinandeer))\\n- Rachel Sanders ([@trustrachel](https://github.com/trustrachel))\\n- Rémy Hubscher ([@Natim](https://github.com/Natim))\\n- Dino Petron3 ([@dinopetrone](https://github.com/dinopetrone))\\n- Peter Inglesby ([@inglesp](https://github.com/inglesp))\\n- Ramiro Batista da Luz ([@ramiroluz](https://github.com/ramiroluz))\\n- Omer Katz ([@thedrow](https://github.com/thedrow))\\n- lord63 ([@lord63](https://github.com/lord63))\\n- Randy Syring ([@rsyring](https://github.com/rsyring))\\n- Mark Jones ([@mark0978](https://github.com/mark0978))\\n- Marc Abramowitz ([@msabramo](https://github.com/msabramo))\\n- Lucian Ursu ([@LucianU](https://github.com/LucianU))\\n- Osvaldo Santana Neto ([@osantana](https://github.com/osantana))\\n- Matthias84 ([@Matthias84](https://github.com/Matthias84))\\n- Simeon Visser ([@svisser](https://github.com/svisser))\\n- Guruprasad ([@lgp171188](https://github.com/lgp171188))\\n- Charles-Axel Dein ([@charlax](https://github.com/charlax))\\n- Diego Garcia ([@drgarcia1986](https://github.com/drgarcia1986))\\n- maiksensi ([@maiksensi](https://github.com/maiksensi))\\n- Andrew Conti ([@agconti](https://github.com/agconti))\\n- Valentin Lab ([@vaab](https://github.com/vaab))\\n- Ilja Bauer ([@iljabauer](https://github.com/iljabauer))\\n- Elias Dorneles ([@eliasdorneles](https://github.com/eliasdorneles))\\n- Matias Saguir ([@mativs](https://github.com/mativs))\\n- Johannes ([@johtso](https://github.com/johtso))\\n- macrotim ([@macrotim](https://github.com/macrotim))\\n- Will McGinnis ([@wdm0006](https://github.com/wdm0006))\\n- Cédric Krier ([@cedk](https://github.com/cedk))\\n- Tim Osborn ([@ptim](https://github.com/ptim))\\n- Aaron Gallagher ([@habnabit](https://github.com/habnabit))\\n- mozillazg ([@mozillazg](https://github.com/mozillazg))\\n- Joachim Jablon ([@ewjoachim](https://github.com/ewjoachim))\\n- Andrew Ittner ([@tephyr](https://github.com/tephyr))\\n- Diane DeMers Chen ([@purplediane](https://github.com/purplediane))\\n- zzzirk ([@zzzirk](https://github.com/zzzirk))\\n- Carol Willing ([@willingc](https://github.com/willingc))\\n- phoebebauer ([@phoebebauer](https://github.com/phoebebauer))\\n- Adam Chainz ([@adamchainz](https://github.com/adamchainz))\\n- Sulé ([@suledev](https://github.com/suledev))\\n- Evan Palmer ([@palmerev](https://github.com/palmerev))\\n- Bruce Eckel ([@BruceEckel](https://github.com/BruceEckel))\\n- Robert Lyon ([@ivanlyon](https://github.com/ivanlyon))\\n- Terry Bates ([@terryjbates](https://github.com/terryjbates))\\n- Brett Cannon ([@brettcannon](https://github.com/brettcannon))\\n- Michael Warkentin ([@mwarkentin](https://github.com/mwarkentin))\\n- Bartłomiej Kurzeja ([@B3QL](https://github.com/B3QL))\\n- Thomas O'Donnell ([@andytom](https://github.com/andytom))\\n- Jeremy Carbaugh ([@jcarbaugh](https://github.com/jcarbaugh))\\n- Nathan Cheung ([@cheungnj](https://github.com/cheungnj))\\n- Abdó Roig-Maranges ([@aroig](https://github.com/aroig))\\n- Steve Piercy ([@stevepiercy](https://github.com/stevepiercy))\\n- Corey ([@coreysnyder04](https://github.com/coreysnyder04))\\n- Dmitry Evstratov ([@devstrat](https://github.com/devstrat))\\n- Eyal Levin ([@eyalev](https://github.com/eyalev))\\n- mathagician ([@mathagician](https://github.com/mathagician))\\n- Guillaume Gelin ([@ramnes](https://github.com/ramnes))\\n- @delirious-lettuce ([@delirious-lettuce](https://github.com/delirious-lettuce))\\n- Gasper Vozel ([@karantan](https://github.com/karantan))\\n- Joshua Carp ([@jmcarp](https://github.com/jmcarp))\\n- @meahow ([@meahow](https://github.com/meahow))\\n- Andrea Grandi ([@andreagrandi](https://github.com/andreagrandi))\\n- Issa Jubril ([@jubrilissa](https://github.com/jubrilissa))\\n- Nytiennzo Madooray ([@Nythiennzo](https://github.com/Nythiennzo))\\n- Erik Bachorski ([@dornheimer](https://github.com/dornheimer))\\n- cclauss ([@cclauss](https://github.com/cclauss))\\n- Andy Craze ([@accraze](https://github.com/accraze))\\n- Anthony Sottile ([@asottile](https://github.com/asottile))\\n- Jonathan Sick ([@jonathansick](https://github.com/jonathansick))\\n- Hugo ([@hugovk](https://github.com/hugovk))\\n- Min ho Kim ([@minho42](https://github.com/minho42))\\n- Ryan Ly ([@rly](https://github.com/rly))\\n- Akintola Rahmat ([@mihrab34](https://github.com/mihrab34))\\n- Jai Ram Rideout ([@jairideout](https://github.com/jairideout))\\n- Diego Carrasco Gubernatis ([@dacog](https://github.com/dacog))\\n- Wagner Negrão ([@wagnernegrao](https://github.com/wagnernegrao))\\n- Josh Barnes ([@jcb91](https://github.com/jcb91))\\n- Nikita Sobolev ([@sobolevn](https://github.com/sobolevn))\\n- Matt Stibbs ([@mattstibbs](https://github.com/mattstibbs))\\n- MinchinWeb ([@MinchinWeb](https://github.com/MinchinWeb))\\n- kishan ([@kishan](https://github.com/kishan3))\\n- tonytheleg ([@tonytheleg](https://github.com/tonytheleg))\\n- Roman Hartmann ([@RomHartmann](https://github.com/RomHartmann))\\n- DSEnvel ([@DSEnvel](https://github.com/DSEnvel))\\n- kishan ([@kishan](https://github.com/kishan3))\\n- Bruno Alla ([@browniebroke](https://github.com/browniebroke))\\n- nicain ([@nicain](https://github.com/nicain))\\n- Carsten Rösnick-Neugebauer ([@croesnick](https://github.com/croesnick))\\n- igorbasko01 ([@igorbasko01](https://github.com/igorbasko01))\\n- Dan Booth Dev ([@DanBoothDev](https://github.com/DanBoothDev))\\n- Pablo Panero ([@ppanero](https://github.com/ppanero))\\n- Chuan-Heng Hsiao ([@chhsiao1981](https://github.com/chhsiao1981))\\n- Mohammad Hossein Sekhavat ([@mhsekhavat](https://github.com/mhsekhavat))\\n- Amey Joshi ([@amey589](https://github.com/amey589))\\n- Paul Harrison ([@smoothml](https://github.com/smoothml))\\n- Fabio Todaro ([@SharpEdgeMarshall](https://github.com/SharpEdgeMarshall))\\n- Nicholas Bollweg ([@bollwyvl](https://github.com/bollwyvl))\\n- Jace Browning ([@jacebrowning](https://github.com/jacebrowning))\\n- Ionel Cristian Mărieș ([@ionelmc](https://github.com/ionelmc))\\n- Kishan Mehta ([@kishan3](https://github.com/kishan3))\\n- Wieland Hoffmann ([@mineo](https://github.com/mineo))\\n- Antony Lee ([@anntzer](https://github.com/anntzer))\\n- Aurélien Gâteau ([@agateau](https://github.com/agateau))\\n- Axel H. ([@noirbizarre](https://github.com/noirbizarre))\\n- Chris ([@chrisbrake](https://github.com/chrisbrake))\\n- Chris Streeter ([@streeter](https://github.com/streeter))\\n- Gábor Lipták ([@gliptak](https://github.com/gliptak))\\n- Javier Sánchez Portero ([@javiersanp](https://github.com/javiersanp))\\n- Nimrod Milo ([@milonimrod](https://github.com/milonimrod))\\n- Philipp Kats ([@Casyfill](https://github.com/Casyfill))\\n- Reinout van Rees ([@reinout](https://github.com/reinout))\\n- Rémy Greinhofer ([@rgreinho](https://github.com/rgreinho))\\n- Sebastian ([@sebix](https://github.com/sebix))\\n- Stuart Mumford ([@Cadair](https://github.com/Cadair))\\n- Tom Forbes ([@orf](https://github.com/orf))\\n- Xie Yanbo ([@xyb](https://github.com/xyb))\\n- Maxim Ivanov ([@ivanovmg](https://github.com/ivanovmg))\", metadata={'id': 'AUTHORS.md', 'doc_id': 'AUTHORS.md#2'}), Document(page_content='We would like to thank the following people for supporting us in our efforts to maintain and improve Cookiecutter:  \\n- Alex DeBrie\\n- Alexandre Y. Harano\\n- Bruno Alla\\n- Carol Willing\\n- Russell Keith-Magee', metadata={'id': 'AUTHORS.md', 'doc_id': 'AUTHORS.md#3'}), Document(page_content='The following people made contributions to the cookiecutter project at the PyCon sprints in Portland, OR from June 2-5 2016.\\nContributions include user testing, debugging, improving documentation, reviewing issues, writing tutorials, creating and updating project templates, and teaching each other.  \\n- Adam Chainz ([@adamchainz](https://github.com/adamchainz))\\n- Andrew Ittner ([@tephyr](https://github.com/tephyr))\\n- Audrey Roy Greenfeld ([@audreyfeldroy](https://github.com/audreyfeldroy))\\n- Carol Willing ([@willingc](https://github.com/willingc))\\n- Christopher Clarke ([@chrisdev](https://github.com/chrisdev))\\n- Citlalli Murillo ([@citmusa](https://github.com/citmusa))\\n- Daniel Roy Greenfeld ([@pydanny](https://github.com/pydanny))\\n- Diane DeMers Chen ([@purplediane](https://github.com/purplediane))\\n- Elaine Wong ([@elainewong](https://github.com/elainewong))\\n- Elias Dorneles ([@eliasdorneles](https://github.com/eliasdorneles))\\n- Emily Cain ([@emcain](https://github.com/emcain))\\n- John Roa ([@jhonjairoroa87](https://github.com/jhonjairoroa87))\\n- Jonan Scheffler ([@1337807](https://github.com/1337807))\\n- Phoebe Bauer ([@phoebebauer](https://github.com/phoebebauer))\\n- Kartik Sundararajan ([@skarbot](https://github.com/skarbot))\\n- Katia Lira ([@katialira](https://github.com/katialira))\\n- Leonardo Jimenez ([@xpostudio4](https://github.com/xpostudio4))\\n- Lindsay Slazakowski ([@lslaz1](https://github.com/lslaz1))\\n- Meghan Heintz ([@dot2dotseurat](https://github.com/dot2dotseurat))\\n- Raphael Pierzina ([@hackebrot](https://github.com/hackebrot))\\n- Umair Ashraf ([@umrashrf](https://github.com/umrashrf))\\n- Valdir Stumm Junior ([@stummjr](https://github.com/stummjr))\\n- Vivian Guillen ([@viviangb](https://github.com/viviangb))\\n- Zaro ([@zaro0508](https://github.com/zaro0508))', metadata={'id': 'AUTHORS.md', 'doc_id': 'AUTHORS.md#4'})]\n"
     ]
    }
   ],
   "source": [
    "print(chunks)"
   ]
  }
 ],
 "metadata": {
  "kernelspec": {
   "display_name": "Python 3",
   "language": "python",
   "name": "python3"
  },
  "language_info": {
   "codemirror_mode": {
    "name": "ipython",
    "version": 3
   },
   "file_extension": ".py",
   "mimetype": "text/x-python",
   "name": "python",
   "nbconvert_exporter": "python",
   "pygments_lexer": "ipython3",
   "version": "3.11.0"
  }
 },
 "nbformat": 4,
 "nbformat_minor": 2
}
