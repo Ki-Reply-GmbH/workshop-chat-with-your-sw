{
 "cells": [
  {
   "cell_type": "code",
   "execution_count": 37,
   "metadata": {},
   "outputs": [],
   "source": [
    "import ast\n",
    "from pathlib import Path\n",
    "from typing import Iterator, Any, Optional, List, NotRequired, Union\n",
    "import re\n",
    "\n",
    "from langchain.prompts import load_prompt\n",
    "from langchain_openai import ChatOpenAI\n",
    "from langchain_core.output_parsers import StrOutputParser\n",
    "from langchain.text_splitter import RecursiveCharacterTextSplitter\n",
    "\n",
    "import dotenv\n",
    "dotenv.load_dotenv()\n",
    "import os\n",
    "from langchain_openai import OpenAIEmbeddings\n",
    "from langchain_community.vectorstores import Chroma\n",
    "from langchain_core.prompts import PromptTemplate\n",
    "from langchain.docstore.document import Document\n",
    "\n",
    "from langchain_text_splitters import (\n",
    "    Language,\n",
    "    RecursiveCharacterTextSplitter,\n",
    ")\n",
    "\n",
    "from langchain_openai import ChatOpenAI\n",
    "\n",
    "llm = ChatOpenAI(\n",
    "    model_name=\"gpt-4o\",\n",
    "\n",
    ")\n",
    "\n",
    "embeddings = OpenAIEmbeddings( \n",
    "                              model=\"text-embedding-3-large\", \n",
    "\n",
    ")"
   ]
  },
  {
   "cell_type": "code",
   "execution_count": 42,
   "metadata": {},
   "outputs": [],
   "source": [
    "import os\n",
    "import glob\n",
    "\n",
    "def list_files(directory):\n",
    "    # Expand user home directory symbol '~' if present\n",
    "    directory = os.path.expanduser(directory)\n",
    "    \n",
    "    # Get the absolute path of the directory\n",
    "    abs_directory = os.path.abspath(directory)\n",
    "    \n",
    "    # Check if the provided path is a directory\n",
    "    if not os.path.isdir(abs_directory):\n",
    "        return f\"The path {abs_directory} is not a valid directory.\"\n",
    "\n",
    "    # Define the file extensions to track\n",
    "    file_extensions = ['.py', '.md', 'rst']\n",
    "    \n",
    "    # Use glob to list all files in the directory and subdirectories\n",
    "    files = [file for file in glob.glob(os.path.join(abs_directory, '**', '*'), recursive=True) if os.path.isfile(file) and os.path.splitext(file)[1] in file_extensions]\n",
    "    \n",
    "    return files\n"
   ]
  },
  {
   "cell_type": "code",
   "execution_count": 43,
   "metadata": {},
   "outputs": [],
   "source": [
    "from typing import Tuple\n",
    "\n",
    "def read_file(file_path) -> Tuple[str, str]:\n",
    "    file_extension = file_path[-3:]\n",
    "    with open(file_path, 'r', encoding='utf-8') as file:\n",
    "        return file.read(), file_extension\n",
    "\n",
    "def chunk_text(text: str, language: str, max_length=1000):\n",
    "    if \".py\" == language.casefold().strip():\n",
    "        splitter = RecursiveCharacterTextSplitter.from_language(\n",
    "        language=Language.PYTHON, chunk_size=1000, chunk_overlap=100\n",
    "        )\n",
    "    elif \".md\" == language.casefold().strip():\n",
    "        splitter = RecursiveCharacterTextSplitter.from_language(\n",
    "        language=Language.MARKDOWN, chunk_size=1000, chunk_overlap=100\n",
    "        )\n",
    "    else:\n",
    "        splitter = RecursiveCharacterTextSplitter(chunk_size=max_length, chunk_overlap=200)\n",
    "    return splitter.split_text(text)"
   ]
  },
  {
   "cell_type": "code",
   "execution_count": 44,
   "metadata": {},
   "outputs": [],
   "source": [
    "file_list = list_files(\"./resources\")\n",
    "\n",
    "list_docs = []\n",
    "for file in file_list:\n",
    "    content, language = read_file(file)\n",
    "    chunks = chunk_text(content, language, max_length=1000)\n",
    "    docs = [Document(page_content=chunk, metadata={'filePath': file}) for chunk in chunks]\n",
    "    # docs = [Document(page_content=chunk, metadata={'filePath': file}) for chunk in chunks]\n",
    "    list_docs.extend(docs)"
   ]
  },
  {
   "cell_type": "code",
   "execution_count": 54,
   "metadata": {},
   "outputs": [
    {
     "data": {
      "text/plain": [
       "826"
      ]
     },
     "execution_count": 54,
     "metadata": {},
     "output_type": "execute_result"
    }
   ],
   "source": [
    "len(list_docs)"
   ]
  },
  {
   "cell_type": "code",
   "execution_count": 53,
   "metadata": {},
   "outputs": [],
   "source": [
    "vector_store = Chroma.from_documents(\n",
    "    documents=list_docs,\n",
    "    embedding=embeddings\n",
    ")"
   ]
  },
  {
   "cell_type": "code",
   "execution_count": 48,
   "metadata": {},
   "outputs": [],
   "source": [
    "retriever = vector_store.as_retriever(search_type=\"similarity\", kwargs={\"k\": 6})"
   ]
  },
  {
   "cell_type": "code",
   "execution_count": 49,
   "metadata": {},
   "outputs": [],
   "source": [
    "prompt = PromptTemplate.from_template(\n",
    "    template=\"\"\"\n",
    "    You're a helpful assistant that informs the user about the code base.\n",
    "\n",
    "    Only use the context and if the context is not sufficient, please respond with:\n",
    "    'Sorry I can't answer your question'.\n",
    "    Use the following context:\n",
    "    {context}\n",
    "\n",
    "\n",
    "    The question from the user:\n",
    "    ```\n",
    "    {question}\n",
    "    ```\n",
    "    Your answer should always contain your sources, which is the FilePath. Never forget to mention the path of the file in your answer.\n",
    "    Your answer:\n",
    "    \"\"\"\n",
    ")"
   ]
  },
  {
   "cell_type": "code",
   "execution_count": 50,
   "metadata": {},
   "outputs": [],
   "source": [
    "from langchain_core.runnables import RunnablePassthrough\n",
    "from langchain_core.prompts import format_document\n",
    "\n",
    "def format_docs(docs): \n",
    "    template = PromptTemplate.from_template(\n",
    "    \"\"\"\n",
    "    <DocumentChunk>\n",
    "        <Content>{page_content}</Content>\n",
    "        <FilePath>{filePath}</FilePath>\n",
    "    </DocumentChunk>\n",
    "    \"\"\")\n",
    "    res = '```\\r\\n' + format_document(docs[0], template)\n",
    "    return res + '\\r\\n'.join(format_document(doc, template) for doc in docs) + '\\r\\n```'\n",
    "\n",
    "\n",
    "rag_chain = (\n",
    "    {\"context\" : retriever | format_docs, \"question\" : RunnablePassthrough()}\n",
    "    | prompt \n",
    "    | llm \n",
    "    | StrOutputParser() \n",
    ")"
   ]
  },
  {
   "cell_type": "code",
   "execution_count": 51,
   "metadata": {},
   "outputs": [
    {
     "data": {
      "text/plain": [
       "\"The Code of Conduct for the Cookiecutter project's codebases and documentation expects everyone interacting with the project to follow the [PyPA Code of Conduct](https://www.pypa.io/en/latest/code-of-conduct/). This applies to all forms of communication, including issue trackers, chat rooms, mailing lists, and both virtual and in-person interactions.\\n\\nSource: \\n- `c:\\\\Users\\\\WilliamRuan\\\\Documents\\\\KI_reply_training\\\\workshop-chat-with-your-sw\\\\resources\\\\cookiecutter\\\\docs\\\\CODE_OF_CONDUCT.md`\\n- `c:\\\\Users\\\\WilliamRuan\\\\Documents\\\\KI_reply_training\\\\workshop-chat-with-your-sw\\\\resources\\\\cookiecutter\\\\CODE_OF_CONDUCT.md`\""
      ]
     },
     "execution_count": 51,
     "metadata": {},
     "output_type": "execute_result"
    }
   ],
   "source": [
    "rag_chain.invoke(\"What is the code of conduct about?\")"
   ]
  }
 ],
 "metadata": {
  "kernelspec": {
   "display_name": "Python 3",
   "language": "python",
   "name": "python3"
  },
  "language_info": {
   "codemirror_mode": {
    "name": "ipython",
    "version": 3
   },
   "file_extension": ".py",
   "mimetype": "text/x-python",
   "name": "python",
   "nbconvert_exporter": "python",
   "pygments_lexer": "ipython3",
   "version": "3.12.2"
  }
 },
 "nbformat": 4,
 "nbformat_minor": 2
}
